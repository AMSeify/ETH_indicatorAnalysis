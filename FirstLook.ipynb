{
 "cells": [
  {
   "cell_type": "markdown",
   "metadata": {},
   "source": [
    "### Chapter 1 : The EMA 5,8,13 Strategy\n",
    "#### Three Eyes"
   ]
  },
  {
   "cell_type": "code",
   "execution_count": 6,
   "metadata": {},
   "outputs": [],
   "source": [
    "from BackTester import *"
   ]
  },
  {
   "cell_type": "code",
   "execution_count": 7,
   "metadata": {},
   "outputs": [
    {
     "name": "stdout",
     "output_type": "stream",
     "text": [
      "[*********************100%***********************]  1 of 1 completed\n",
      "28.385001946168956\n"
     ]
    }
   ],
   "source": [
    "# first test of the Backtest Proccess\n",
    "# The EMA Algorithm\n",
    "\n",
    "import yfinance as yf\n",
    "import pandas_ta as ta\n",
    "\n",
    "ETH = yf.download(tickers=\"XRP-USD\" , interval=\"5m\" , period=\"7d\")\n",
    "ETH[\"EMA5\"] = ta.ema(ETH.Close , 5)\n",
    "ETH[\"EMA8\"] = ta.ema(ETH.Close , 8)\n",
    "ETH[\"EMA13\"] = ta.ema(ETH.Close , 13)\n",
    "ETH.dropna(inplace=True)\n",
    "\n",
    "ETH[\"Buy\"] = (ETH.EMA5 > ETH.EMA8) & (ETH.EMA8 > ETH.EMA13) #& (ETH.MACD > 0 )\n",
    "ETH[\"Sell\"] = (ETH.EMA5 < ETH.EMA8) & (ETH.EMA8 < ETH.EMA13) #& (ETH.MACD < 0 )\n",
    "\n",
    "ETH_tester = Tester(ETH)\n",
    "print(ETH_tester.persentBacktester(\"Buy\" , \"Sell\"))\n"
   ]
  },
  {
   "cell_type": "markdown",
   "metadata": {},
   "source": [
    "### now we make the Three Eyes Strategy limit with start + end series"
   ]
  },
  {
   "cell_type": "code",
   "execution_count": 8,
   "metadata": {},
   "outputs": [
    {
     "ename": "TypeError",
     "evalue": "ufunc 'bitwise_and' not supported for the input types, and the inputs could not be safely coerced to any supported types according to the casting rule ''safe''",
     "output_type": "error",
     "traceback": [
      "\u001b[0;31m---------------------------------------------------------------------------\u001b[0m",
      "\u001b[0;31mTypeError\u001b[0m                                 Traceback (most recent call last)",
      "\u001b[1;32m/home/amseify/Project/ETH_indicatorAnalysis/FirstLook.ipynb Cell 5'\u001b[0m in \u001b[0;36m<cell line: 4>\u001b[0;34m()\u001b[0m\n\u001b[1;32m      <a href='vscode-notebook-cell:/home/amseify/Project/ETH_indicatorAnalysis/FirstLook.ipynb#ch0000008?line=1'>2</a>\u001b[0m stop \u001b[39m=\u001b[39m \u001b[39m~\u001b[39mETH\u001b[39m.\u001b[39mBuy\n\u001b[1;32m      <a href='vscode-notebook-cell:/home/amseify/Project/ETH_indicatorAnalysis/FirstLook.ipynb#ch0000008?line=2'>3</a>\u001b[0m \u001b[39m# stop\u001b[39;00m\n\u001b[0;32m----> <a href='vscode-notebook-cell:/home/amseify/Project/ETH_indicatorAnalysis/FirstLook.ipynb#ch0000008?line=3'>4</a>\u001b[0m ETH[\u001b[39m\"\u001b[39m\u001b[39mFinalBuy\u001b[39m\u001b[39m\"\u001b[39m] \u001b[39m=\u001b[39m ETH_tester\u001b[39m.\u001b[39;49mSigMixer(ETH\u001b[39m.\u001b[39;49mBuy , ETH\u001b[39m.\u001b[39;49mMACD ,stop)\n\u001b[1;32m      <a href='vscode-notebook-cell:/home/amseify/Project/ETH_indicatorAnalysis/FirstLook.ipynb#ch0000008?line=4'>5</a>\u001b[0m ETH\u001b[39m.\u001b[39mFinalBuy\n",
      "File \u001b[0;32m~/Project/ETH_indicatorAnalysis/BackTester.py:105\u001b[0m, in \u001b[0;36mTester.SigMixer\u001b[0;34m(self, ins, start, end)\u001b[0m\n\u001b[1;32m     <a href='file:///home/amseify/Project/ETH_indicatorAnalysis/BackTester.py?line=97'>98</a>\u001b[0m \u001b[39mdef\u001b[39;00m \u001b[39mSigMixer\u001b[39m(\u001b[39mself\u001b[39m, ins, start, end):\n\u001b[1;32m     <a href='file:///home/amseify/Project/ETH_indicatorAnalysis/BackTester.py?line=98'>99</a>\u001b[0m     \u001b[39m\"\"\"this method make Clear signal from boolean multiple Series\u001b[39;00m\n\u001b[1;32m    <a href='file:///home/amseify/Project/ETH_indicatorAnalysis/BackTester.py?line=99'>100</a>\u001b[0m \n\u001b[1;32m    <a href='file:///home/amseify/Project/ETH_indicatorAnalysis/BackTester.py?line=100'>101</a>\u001b[0m \u001b[39m    Args:\u001b[39;00m\n\u001b[1;32m    <a href='file:///home/amseify/Project/ETH_indicatorAnalysis/BackTester.py?line=101'>102</a>\u001b[0m \u001b[39m        ins (pandas.Series): this is simple instance signal and instance signal must be\u001b[39;00m\n\u001b[1;32m    <a href='file:///home/amseify/Project/ETH_indicatorAnalysis/BackTester.py?line=102'>103</a>\u001b[0m \u001b[39m        always true to continue the trade\u001b[39;00m\n\u001b[1;32m    <a href='file:///home/amseify/Project/ETH_indicatorAnalysis/BackTester.py?line=103'>104</a>\u001b[0m \u001b[39m        start (pandas.Series): when the start series rich to True signal will start :)\u001b[39;00m\n\u001b[0;32m--> <a href='file:///home/amseify/Project/ETH_indicatorAnalysis/BackTester.py?line=104'>105</a>\u001b[0m \u001b[39m        end (pandas.Series): when the stop series rich to True the main signal will stops\u001b[39;00m\n\u001b[1;32m    <a href='file:///home/amseify/Project/ETH_indicatorAnalysis/BackTester.py?line=105'>106</a>\u001b[0m \n\u001b[1;32m    <a href='file:///home/amseify/Project/ETH_indicatorAnalysis/BackTester.py?line=106'>107</a>\u001b[0m \u001b[39m    Returns:\u001b[39;00m\n\u001b[1;32m    <a href='file:///home/amseify/Project/ETH_indicatorAnalysis/BackTester.py?line=107'>108</a>\u001b[0m \u001b[39m        pandas.Series: the main signal\u001b[39;00m\n\u001b[1;32m    <a href='file:///home/amseify/Project/ETH_indicatorAnalysis/BackTester.py?line=108'>109</a>\u001b[0m \u001b[39m    \"\"\"\u001b[39;00m\n\u001b[1;32m    <a href='file:///home/amseify/Project/ETH_indicatorAnalysis/BackTester.py?line=109'>110</a>\u001b[0m     startindex \u001b[39m=\u001b[39m \u001b[39mNone\u001b[39;00m\n\u001b[1;32m    <a href='file:///home/amseify/Project/ETH_indicatorAnalysis/BackTester.py?line=110'>111</a>\u001b[0m     endindex \u001b[39m=\u001b[39m \u001b[39mNone\u001b[39;00m \n",
      "\u001b[0;31mTypeError\u001b[0m: ufunc 'bitwise_and' not supported for the input types, and the inputs could not be safely coerced to any supported types according to the casting rule ''safe''"
     ]
    }
   ],
   "source": [
    "ETH[\"MACD\"] = ta.macd(ETH.Close ,12,26,9)[\"MACDh_12_26_9\"]\n",
    "stop = ~ETH.Buy\n",
    "# stop\n",
    "ETH[\"FinalBuy\"] = ETH_tester.SigMixer(ETH.Buy , ETH.MACD ,stop)\n",
    "ETH.FinalBuy"
   ]
  },
  {
   "cell_type": "code",
   "execution_count": null,
   "metadata": {},
   "outputs": [],
   "source": []
  }
 ],
 "metadata": {
  "interpreter": {
   "hash": "29b5dba940cf857cdfd9c15d33e6dd56c8eb0d3dd243fed6ca49836bd2adade4"
  },
  "kernelspec": {
   "display_name": "Python 3.10.4 ('.venv': venv)",
   "language": "python",
   "name": "python3"
  },
  "language_info": {
   "codemirror_mode": {
    "name": "ipython",
    "version": 3
   },
   "file_extension": ".py",
   "mimetype": "text/x-python",
   "name": "python",
   "nbconvert_exporter": "python",
   "pygments_lexer": "ipython3",
   "version": "3.10.4"
  },
  "orig_nbformat": 4
 },
 "nbformat": 4,
 "nbformat_minor": 2
}
