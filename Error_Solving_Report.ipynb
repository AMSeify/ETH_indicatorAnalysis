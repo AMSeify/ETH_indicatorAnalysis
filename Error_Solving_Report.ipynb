{
 "cells": [
  {
   "cell_type": "markdown",
   "metadata": {},
   "source": [
    "## Error 1: Make instant + start + end Signal Series"
   ]
  },
  {
   "cell_type": "markdown",
   "metadata": {},
   "source": [
    "instant : the original signal series that should be true for whole time \\\n",
    "start : this signal must be true for just start time \\\n",
    "end : This Series must be true to Close the Buy/Sell Position"
   ]
  },
  {
   "cell_type": "code",
   "execution_count": 83,
   "metadata": {},
   "outputs": [],
   "source": [
    "import pandas as pd\n",
    "import numpy as np"
   ]
  },
  {
   "cell_type": "code",
   "execution_count": 84,
   "metadata": {},
   "outputs": [
    {
     "data": {
      "text/plain": [
       "array([False, False, False, False, False,  True,  True,  True,  True,\n",
       "        True,  True,  True, False, False, False, False, False, False,\n",
       "       False, False, False, False, False, False, False, False, False,\n",
       "       False, False, False, False, False, False, False, False])"
      ]
     },
     "execution_count": 84,
     "metadata": {},
     "output_type": "execute_result"
    }
   ],
   "source": [
    "### Sample :\n",
    "# Try 1:\n",
    "ins = pd.Series(  [False,False,False,False,False,True,True,True,True,True,True,True,True,False,False,False,False,False,False,False,False,False,False,False,False,False,False,False,False,False,False,False,False,False,False])\n",
    "# len(ins)\n",
    "start = pd.Series([True,False,False,False,False,False,True,True,False,False,True,True,False,False,False,False,False,False,False,False,False,False,False,False,False,False,False,False,False,False,False,False,False,False,False])\n",
    "# len(start)\n",
    "end = pd.Series(  [True,False,False,False,False,False,False,False,False,False,False,True,True,False,False,False,False,False,False,False,False,False,False,False,False,False,False,False,False,False,False,False,False,False,False])\n",
    "# len(end)\n",
    "# end\n",
    "# ((ins & start) & (ins & (~end)))\n",
    "signal = ins & (start | (~end))\n",
    "np.array(signal) \n",
    "\n",
    "# Failed"
   ]
  },
  {
   "cell_type": "code",
   "execution_count": 87,
   "metadata": {},
   "outputs": [
    {
     "name": "stdout",
     "output_type": "stream",
     "text": [
      "6 12\n"
     ]
    },
    {
     "data": {
      "text/plain": [
       "0     False\n",
       "1     False\n",
       "2     False\n",
       "3     False\n",
       "4     False\n",
       "5     False\n",
       "6      True\n",
       "7      True\n",
       "8      True\n",
       "9      True\n",
       "10     True\n",
       "11     True\n",
       "12    False\n",
       "13    False\n",
       "14    False\n",
       "15    False\n",
       "16    False\n",
       "17    False\n",
       "18    False\n",
       "19    False\n",
       "20    False\n",
       "21    False\n",
       "22    False\n",
       "23    False\n",
       "24    False\n",
       "25    False\n",
       "26    False\n",
       "27    False\n",
       "28    False\n",
       "29    False\n",
       "30    False\n",
       "31    False\n",
       "32    False\n",
       "33    False\n",
       "34    False\n",
       "dtype: bool"
      ]
     },
     "execution_count": 87,
     "metadata": {},
     "output_type": "execute_result"
    }
   ],
   "source": [
    "\n",
    "signal = pd.Series([False,False,False,False,False,False,False,False,False,False,False,False,False,False,False,False,False,False,False,False,False,False,False,False,False,False,False,False,False,False,False,False,False,False,False])\n",
    "\n",
    "startindex = 0\n",
    "endindex = 0 #len(signal)\n",
    "Is_StartFound = False\n",
    "\n",
    "for index in ins.index:\n",
    "    if ins[index] & start[index] & ~Is_StartFound:\n",
    "        startindex = index\n",
    "        Is_StartFound = True\n",
    "    elif ins[index] & end[index]:\n",
    "        endindex = index\n",
    "\n",
    "print(startindex , endindex)\n",
    "signal[startindex:endindex] = True\n",
    "\n",
    "signal\n"
   ]
  },
  {
   "cell_type": "markdown",
   "metadata": {},
   "source": [
    "This is how Make Start/Instant/Stop Signal"
   ]
  }
 ],
 "metadata": {
  "interpreter": {
   "hash": "29b5dba940cf857cdfd9c15d33e6dd56c8eb0d3dd243fed6ca49836bd2adade4"
  },
  "kernelspec": {
   "display_name": "Python 3.10.4 ('.venv': venv)",
   "language": "python",
   "name": "python3"
  },
  "language_info": {
   "codemirror_mode": {
    "name": "ipython",
    "version": 3
   },
   "file_extension": ".py",
   "mimetype": "text/x-python",
   "name": "python",
   "nbconvert_exporter": "python",
   "pygments_lexer": "ipython3",
   "version": "3.10.4"
  },
  "orig_nbformat": 4
 },
 "nbformat": 4,
 "nbformat_minor": 2
}
